{
 "cells": [
  {
   "cell_type": "code",
   "execution_count": 53,
   "metadata": {
    "ExecuteTime": {
     "end_time": "2019-12-17T19:32:57.932903Z",
     "start_time": "2019-12-17T19:32:49.367731Z"
    }
   },
   "outputs": [],
   "source": [
    "import pandas as pd\n",
    "import numpy as np\n",
    "from IPython.display import display, clear_output, HTML, Image, IFrame\n",
    "\n",
    "import io\n",
    "import ipywidgets as widgets\n",
    "from ipywidgets import interact, interact_manual\n",
    "\n",
    "from io import BytesIO\n",
    "from PIL import Image\n",
    "import urllib.request\n",
    "import requests as req\n"
   ]
  },
  {
   "cell_type": "code",
   "execution_count": 54,
   "metadata": {
    "ExecuteTime": {
     "end_time": "2019-12-17T19:35:10.752245Z",
     "start_time": "2019-12-17T19:35:10.727452Z"
    }
   },
   "outputs": [
    {
     "data": {
      "application/javascript": [
       "//To remove scroll from any output area and automatically extend the jupyter cell\n",
       "IPython.OutputArea.prototype._should_scroll = function(lines) {\n",
       "    return false;\n",
       "}\n"
      ],
      "text/plain": [
       "<IPython.core.display.Javascript object>"
      ]
     },
     "metadata": {},
     "output_type": "display_data"
    }
   ],
   "source": [
    "%%javascript\n",
    "//To remove scroll from any output area and automatically extend the jupyter cell\n",
    "IPython.OutputArea.prototype._should_scroll = function(lines) {\n",
    "    return false;\n",
    "}"
   ]
  },
  {
   "cell_type": "code",
   "execution_count": 55,
   "metadata": {
    "ExecuteTime": {
     "end_time": "2019-12-17T19:35:11.397086Z",
     "start_time": "2019-12-17T19:35:11.384947Z"
    }
   },
   "outputs": [],
   "source": [
    "my_style = {'description_width': 'initial'}\n",
    "my_style_two = {'description_width': '150px'}\n",
    "my_layout = {'width': '600px'}\n",
    "my_layout_short = {'width': '300px'}\n",
    "my_layout_shortest = {'width': '200px'}\n",
    "FLAG__ON_BINDER = True\n",
    "FLAG__FROM_GIT = True\n",
    "\n",
    "DATA_FRAME_PATH_LOCAL = './data_to_display.csv'\n",
    "DATA_FRAME_PATH_GIT_URL = 'https://raw.githubusercontent.com/aideenf/AIVC/master/cp_wssc/Data/Iterative-models-building/Classification%20results/Conventions/'\n",
    "DATA_FRAME_PATH_LOCAL_BINDER  = '/home/jovyan/cp_wssc/Data/Iterative-models-building/Classification results/Conventions/Audited/'\n",
    "    "
   ]
  },
  {
   "cell_type": "code",
   "execution_count": 56,
   "metadata": {
    "ExecuteTime": {
     "end_time": "2019-12-17T19:35:26.876231Z",
     "start_time": "2019-12-17T19:35:26.871772Z"
    },
    "scrolled": true
   },
   "outputs": [],
   "source": [
    "def image_to_byte_array(image:Image):\n",
    "  imgByteArr = io.BytesIO()\n",
    "  image.save(imgByteArr, format=image.format)\n",
    "  imgByteArr = imgByteArr.getvalue()\n",
    "  return imgByteArr"
   ]
  },
  {
   "cell_type": "code",
   "execution_count": 57,
   "metadata": {
    "ExecuteTime": {
     "end_time": "2019-12-17T22:18:35.246669Z",
     "start_time": "2019-12-17T22:18:35.209204Z"
    },
    "scrolled": false
   },
   "outputs": [],
   "source": [
    "data_to_display_df = pd.read_csv(DATA_FRAME_PATH_LOCAL, index_col = False)\n",
    "data_to_display_df = data_to_display_df.drop(\"Unnamed: 0\", axis = 1).drop(\"id\", axis = 1)\n",
    "\n",
    "data_to_display_df['title_lower'] = data_to_display_df[\"title\"].apply(lambda string: string.lower())\n",
    "# display(data_to_display_df.head())\n",
    "\n",
    "# print(\"Num rows\", data_to_display_df.shape[0])\n",
    "# print(\"Num cols\",data_to_display_df.shape[1])"
   ]
  },
  {
   "cell_type": "code",
   "execution_count": 58,
   "metadata": {
    "ExecuteTime": {
     "end_time": "2019-12-17T21:54:17.586136Z",
     "start_time": "2019-12-17T21:54:17.138025Z"
    }
   },
   "outputs": [],
   "source": [
    "file_size_list = data_to_display_df.size_kb.unique()\n",
    "max_usability_rating = data_to_display_df.usabilityRating.max()\n",
    "min_usability_rating = data_to_display_df.usabilityRating.min()\n",
    "\n",
    "my_intro_html= \"\"\"<h4>About this project</h4><p>This tool visualizes the results of my final \n",
    "project with AkademyAI. For this project I was interested to aggregate relevant machine learning datasets\n",
    "in accordance with the UN's sustainable development goals. <p>As a first step towards accomplishing\n",
    "this goal, my project has dealt with classifying relevant health and well being (target 3) datasets\n",
    "from the Kaggle API using NLP. The NLP model has been trained on dataset descriptions scraped\n",
    "and cleaned from Kaggle, as well as text labeled specifically as being target 3 related from a previosu\n",
    "Zindi Competition. (https://zindi.africa/competitions/sustainable-development-goals-sdgs-text-classification-challenge).</p>\n",
    "<p>The datasets displayed with this tool have been prefiltered based on usability rating (>.5) and\n",
    "size (greater than 10MB) inorder to maintain a quality level suitable for machine learning and\n",
    "data science projects. Additional functionality allows to move backwards and forwards through\n",
    "the datasets, as well as further filtering results with the Usability rating sliders and file \n",
    "size drop down menu (although the prefilled entry for file size \"Any\" is recommended). Links to the\n",
    "datasets page on kaggle, as well as a direct download link, allow access to the datasets listed.</p>\n",
    "<p>Ultimately, the use of a mixed Zindi and Kaggle training set has made the NLP model slightly\n",
    "more robust in correctly indentifying health related datasets from Kaggle. This indicates that\n",
    "including text scraped from a variety of media sources (articles, NGO descriptions, newsheadlines)\n",
    "could help in the tagging of other SDG targets in addition to target 3 as an expansion of this project. </p>\n",
    "</p> \"\"\"     \n",
    "about_SDGS_html = \"\"\"<h4> About Sustainable Development Goals </h4><p> Sustainable Development\n",
    "Goals (SDGs) were created by the UN in 2016 outlining 17 humanitarian goals to be accomplished by\n",
    "2030. The 17 goals, or targets, are as follows: GOAL 1: No Poverty\n",
    "\n",
    "<p> GOAL 2: Zero Hunger </p>\n",
    "\n",
    "<p> GOAL 3: Good Health and Well-being </p>\n",
    "\n",
    "<p> GOAL 4: Quality Education </p>\n",
    "\n",
    "<p> GOAL 5: Gender Equality </p>\n",
    "\n",
    "<p> GOAL 6: Clean Water and Sanitation </p>\n",
    "\n",
    "<p> GOAL 7: Affordable and Clean Energy </p>\n",
    "\n",
    "<p> GOAL 8: Decent Work and Economic Growth </p>\n",
    "\n",
    "<p> GOAL 9: Industry, Innovation and Infrastructure </p>\n",
    "\n",
    "<p> GOAL 10: Reduced Inequality </p>\n",
    "\n",
    "<p> GOAL 11: Sustainable Cities and Communities </p>\n",
    "\n",
    "<p> GOAL 12: Responsible Consumption and Production </p>\n",
    "\n",
    "<p> GOAL 13: Climate Action </p>\n",
    "\n",
    "<p> GOAL 14: Life Below Water </p>\n",
    "\n",
    "<p> GOAL 15: Life on Land </p>\n",
    "\n",
    "<p> GOAL 16: Peace and Justice Strong Institutions </p>\n",
    "\n",
    "<p> GOAL 17: Partnerships to achieve the Goal</p> \n",
    "\n",
    "<p> Currently this project has functionality to aggregate Goal/Target 3: Health and well-being \n",
    "machine learning datasets from Kaggle. The indicators of Target 3 aim to ensure healthy lives and promoting the well-being \n",
    "at all ages is essential to sustainable development.  Health and well-being can be quantified by a variety of \n",
    "indicators, including materinal mortality rate, access to healthcare and family planning services, epidemics and\n",
    "disease in certain populations (HIV), as well as addiction and mental health rates. </p>\n",
    "\n",
    "\n",
    "\n",
    "</p>  \"\"\"  \n",
    "\n",
    "\n",
    "#image\n",
    "IMAGE_PATH = 'http://www.euro.who.int/__data/assets/image/0020/392042/SDG3-600-collage.png'\n",
    "image = Image.open(urllib.request.urlopen(IMAGE_PATH))\n",
    "image = image_to_byte_array(image)\n"
   ]
  },
  {
   "cell_type": "code",
   "execution_count": 59,
   "metadata": {
    "ExecuteTime": {
     "end_time": "2019-12-17T22:42:51.214270Z",
     "start_time": "2019-12-17T22:42:50.936970Z"
    },
    "scrolled": true
   },
   "outputs": [
    {
     "data": {
      "application/vnd.jupyter.widget-view+json": {
       "model_id": "daca36a9d09d4548b0292d3d497e6bec",
       "version_major": 2,
       "version_minor": 0
      },
      "text/plain": [
       "HTML(value=\"<font color = '#8c8c8c'><h3><center>*** Model Classification, Audit Tool ***</center></h3></font>\"…"
      ]
     },
     "metadata": {},
     "output_type": "display_data"
    },
    {
     "data": {
      "application/vnd.jupyter.widget-view+json": {
       "model_id": "6ed36eba299f4ca9b60027d925298052",
       "version_major": 2,
       "version_minor": 0
      },
      "text/plain": [
       "Accordion(children=(HTML(value='<h4>Using the audit tool</h4><p>This tool will randomly select and display a s…"
      ]
     },
     "metadata": {},
     "output_type": "display_data"
    },
    {
     "data": {
      "application/vnd.jupyter.widget-view+json": {
       "model_id": "90b3e4cd131b4f2688ee5862506f8a48",
       "version_major": 2,
       "version_minor": 0
      },
      "text/plain": [
       "Label(value='  ', layout=Layout(width='100%'))"
      ]
     },
     "metadata": {},
     "output_type": "display_data"
    },
    {
     "data": {
      "application/vnd.jupyter.widget-view+json": {
       "model_id": "75f4592fe30b41bb8d9ff44feddf9a64",
       "version_major": 2,
       "version_minor": 0
      },
      "text/plain": [
       "HTML(value=\"<font color = '#8c8c8c'><h4><left>--- Filter ---</left></h4></font>\")"
      ]
     },
     "metadata": {},
     "output_type": "display_data"
    },
    {
     "data": {
      "application/vnd.jupyter.widget-view+json": {
       "model_id": "90b3e4cd131b4f2688ee5862506f8a48",
       "version_major": 2,
       "version_minor": 0
      },
      "text/plain": [
       "Label(value='  ', layout=Layout(width='100%'))"
      ]
     },
     "metadata": {},
     "output_type": "display_data"
    },
    {
     "data": {
      "application/vnd.jupyter.widget-view+json": {
       "model_id": "3b8532cb08c34d3aa68457bad224d6e5",
       "version_major": 2,
       "version_minor": 0
      },
      "text/plain": [
       "VBox(children=(Dropdown(description='File size :', layout=Layout(width='600px'), options=('Any', '267MB', '3GB…"
      ]
     },
     "metadata": {},
     "output_type": "display_data"
    },
    {
     "data": {
      "application/vnd.jupyter.widget-view+json": {
       "model_id": "90b3e4cd131b4f2688ee5862506f8a48",
       "version_major": 2,
       "version_minor": 0
      },
      "text/plain": [
       "Label(value='  ', layout=Layout(width='100%'))"
      ]
     },
     "metadata": {},
     "output_type": "display_data"
    },
    {
     "data": {
      "application/vnd.jupyter.widget-view+json": {
       "model_id": "565c06ee7f5e4459a30cc0c9aa0e6118",
       "version_major": 2,
       "version_minor": 0
      },
      "text/plain": [
       "HBox(children=(Button(description='Back', style=ButtonStyle(button_color='#d9d9d9'), tooltip='View previous da…"
      ]
     },
     "metadata": {},
     "output_type": "display_data"
    },
    {
     "data": {
      "application/vnd.jupyter.widget-view+json": {
       "model_id": "6688b4cf51d24100ad46d832cfad4315",
       "version_major": 2,
       "version_minor": 0
      },
      "text/plain": [
       "Output()"
      ]
     },
     "metadata": {},
     "output_type": "display_data"
    }
   ],
   "source": [
    "selectHTMLHead = widgets.HTML(\n",
    "            \"<font color = '#8c8c8c'><h3><center>*** Model Classification, Audit Tool ***</center></h3></font>\")\n",
    "\n",
    "selectHTML = widgets.HTML(\n",
    "            \"<font color = '#8c8c8c'><h4><left>--- Filter ---</left></h4></font>\")\n",
    "\n",
    "space = widgets.Label('  ', layout=widgets.Layout(width='100%'))\n",
    "\n",
    "\n",
    "\n",
    "\n",
    "accordion = widgets.Accordion(children=\n",
    "                              [widgets.HTML(my_intro_html),\n",
    "                               widgets.HTML(about_SDGS_html),\n",
    "                               widgets.Image(value=image,format='png',width=1200,height=1200)\n",
    "                              ])\n",
    "\n",
    "\n",
    "accordion.set_title(0, 'About this project')\n",
    "accordion.set_title(1, 'About SDGs')\n",
    "accordion.set_title(2, 'Target 3: Health and Well-being Indicators')\n",
    "accordion.selected_index = 0\n",
    "\n",
    "file_size_list = data_to_display_df.size_kb.unique()\n",
    "file_size_list = np.insert(file_size_list, 0, \"Any\")\n",
    "file_size_drop_down = widgets.Dropdown(\n",
    "    options =  file_size_list,\n",
    "    description=\"File size :\",\n",
    "     #value=None,\n",
    "    disabled=False,\n",
    "    style = my_style_two,\n",
    "    layout = my_layout\n",
    ")\n",
    "\n",
    "\n",
    "\n",
    "usability_rating_slider_min = widgets.FloatSlider(\n",
    "    min=min_usability_rating, \n",
    "    max=max_usability_rating,\n",
    "    value = min_usability_rating,\n",
    "    step = 0.01,\n",
    "    description='Min Usability level:',\n",
    "    style = my_style_two,\n",
    "    layout = my_layout\n",
    "    )\n",
    "usability_rating_slider_min.style.handle_color = '#5c85d6'\n",
    "\n",
    "\n",
    "usability_rating_slider_max = widgets.FloatSlider(\n",
    "    min=min_usability_rating, \n",
    "    max=max_usability_rating, \n",
    "    value = max_usability_rating,\n",
    "    step = 0.01,\n",
    "    description='Max Usability level:',\n",
    "    style = my_style_two,\n",
    "    layout = my_layout)\n",
    "usability_rating_slider_max.style.handle_color = '#5c85d6'\n",
    "\n",
    "\n",
    "\n",
    "search_box_title = widgets.Text(value='', \n",
    "                              description='Search Title:',\n",
    "                              style = my_style_two,\n",
    "                              layout = my_layout)\n",
    "\n",
    "\n",
    "forward_button = widgets.Button(\n",
    "            description= \"Forward\",\n",
    "            disabled=False,\n",
    "            button_style='',\n",
    "            tooltip='View next dataset')\n",
    "forward_button.style.button_color = '#e68a00'\n",
    "\n",
    "\n",
    "\n",
    "back_button = widgets.Button(\n",
    "            description='Back',\n",
    "            disabled=False,\n",
    "            button_style='',\n",
    "             tooltip='View previous dataset')\n",
    "back_button.style.button_color = '#d9d9d9'\n",
    "\n",
    "last_clicked = \"forward\"\n",
    "\n",
    "def forward_button_clicked(b):\n",
    "    global data_to_display_df\n",
    "    global last_clicked\n",
    "    last_clicked = \"forward\"\n",
    "   \n",
    "    with output:\n",
    "        clear_output(wait=True)\n",
    "        print (\"Forward button clicked\") \n",
    "        output_function(file_size_drop_down.value,\n",
    "                        usability_rating_slider_min.value,\n",
    "                        usability_rating_slider_max.value,\n",
    "                        search_box_title.value)\n",
    "        \n",
    "\n",
    "def back_button_clicked(b):\n",
    "    global data_to_display_df\n",
    "    global last_clicked\n",
    "    last_clicked = \"back\"\n",
    "   \n",
    "    with output:\n",
    "        clear_output(wait=True)\n",
    "        print (\"Back button clicked\") \n",
    "        output_function(file_size_drop_down.value,\n",
    "                        usability_rating_slider_min.value,\n",
    "                        usability_rating_slider_max.value,\n",
    "                        search_box_title.value)\n",
    "        \n",
    "\n",
    "\n",
    "            \n",
    "            \n",
    "def output_function(file_size_drop_down_value,\n",
    "                        usability_rating_slider_min_value,\n",
    "                        usability_rating_slider_max_value,\n",
    "                        search_box_title_value):\n",
    "    \n",
    "#     print (\"output function called\")\n",
    "    global data_to_display_df\n",
    "    global last_clicked\n",
    "    file_size_drop_down.disable = False\n",
    "    usability_rating_slider_min.disable = False\n",
    "    usability_rating_slider_max.disable = False\n",
    "    search_box_title.disable = False\n",
    "    \n",
    "#     display (data_to_display_df.head())\n",
    "    \n",
    "    #print (file_size_drop_down_value)\n",
    "    #print (usability_rating_slider_min_value)\n",
    "    #print (usability_rating_slider_max_value)\n",
    "    #print (search_box_title_value)\n",
    "    #print (last_clicked)\n",
    "    \n",
    "    row_to_display = pd.DataFrame()\n",
    "    \n",
    "    if search_box_title_value != '':\n",
    "        file_size_drop_down.disable = True\n",
    "        usability_rating_slider_min.disable = True\n",
    "        usability_rating_slider_max.disable = True\n",
    "        filtered_result =  data_to_display_df.loc[(data_to_display_df['title_lower'].str.contains(search_box_title_value))]\n",
    "                                              \n",
    "    \n",
    "    elif file_size_drop_down_value == \"Any\":\n",
    "        filtered_result =  data_to_display_df.loc[(data_to_display_df['usabilityRating'] > usability_rating_slider_min_value ) &\n",
    "                                              (data_to_display_df['usabilityRating'] < usability_rating_slider_max_value )]\n",
    "     \n",
    "    \n",
    "    \n",
    "    else:\n",
    "        filtered_result =  data_to_display_df.loc[(data_to_display_df['size_kb'] == file_size_drop_down_value) &\n",
    "                                              (data_to_display_df['usabilityRating'] > usability_rating_slider_min_value ) &\n",
    "                                              (data_to_display_df['usabilityRating'] < usability_rating_slider_max_value )]\n",
    "         \n",
    "#     display ( filtered_result.head())\n",
    "    print ( \"Num filtered rows\", filtered_result.shape[0])\n",
    "    \n",
    "    if not filtered_result.empty:\n",
    "        \n",
    "#         row_to_display = filtered_result.iloc[current_position]\n",
    "        row_to_display = filtered_result.sample(n = 1)\n",
    "        \n",
    "        title = row_to_display.iloc[0].title\n",
    "        subtitle = row_to_display.iloc[0].subtitle\n",
    "        rating = row_to_display.iloc[0].usabilityRating\n",
    "        size = row_to_display.iloc[0].size_kb\n",
    "    \n",
    "        kaggle_url = row_to_display.iloc[0].url\n",
    "        zip_file_url = \"https://www.\" + kaggle_url + \"/download\"\n",
    "        url = \"https://www.\" + kaggle_url\n",
    "\n",
    "    \n",
    "        txt = \"The number of filtered samples is \" + str(filtered_result.shape[0])\n",
    "        display(HTML(\"<font color='purple'>\" +  txt + \"</font>\"))\n",
    "        display(HTML(\"<font color='green'>\" + \"Title: \" + title + \"</font>\"))\n",
    "        display(HTML(\"<font color='green'>\" + \"Sub Title: \" + subtitle + \"</font>\"))\n",
    "        display(HTML(\"<font color='green'>\" + \"Usability Rating: \" + str(round(rating, 2)) + \"</font>\"))\n",
    "        display(HTML(\"<font color='green'>\" + \"File Size: \" + size + \"</font>\"))\n",
    "        print (\"Kaggle URL\", url)\n",
    "        print (\"Download Data:\",  zip_file_url)\n",
    "    else:\n",
    "        print (\"Relax your filter baby\")\n",
    "       \n",
    "        \n",
    "                       \n",
    "    \n",
    "output = widgets.interactive_output(output_function, {'file_size_drop_down_value' :file_size_drop_down,\n",
    "                                    'usability_rating_slider_min_value' :usability_rating_slider_min,\n",
    "                                    'usability_rating_slider_max_value':usability_rating_slider_max,\n",
    "                                    'search_box_title_value':search_box_title})\n",
    "\n",
    "forward_button.on_click(forward_button_clicked)\n",
    "back_button.on_click(back_button_clicked)\n",
    "\n",
    "\n",
    "display(\n",
    "        selectHTMLHead,\n",
    "        accordion,\n",
    "        space,\n",
    "        selectHTML,\n",
    "        space,\n",
    "        widgets.VBox([file_size_drop_down,\n",
    "                        usability_rating_slider_min,\n",
    "                        usability_rating_slider_max,\n",
    "                        search_box_title]),\n",
    "        \n",
    "        space,\n",
    "        widgets.HBox([back_button,forward_button]),\n",
    "        output\n",
    "        \n",
    "    )"
   ]
  },
  {
   "cell_type": "code",
   "execution_count": null,
   "metadata": {},
   "outputs": [],
   "source": []
  },
  {
   "cell_type": "code",
   "execution_count": null,
   "metadata": {},
   "outputs": [],
   "source": []
  }
 ],
 "metadata": {
  "hide_input": false,
  "kernelspec": {
   "display_name": "Python 3",
   "language": "python",
   "name": "python3"
  },
  "language_info": {
   "codemirror_mode": {
    "name": "ipython",
    "version": 3
   },
   "file_extension": ".py",
   "mimetype": "text/x-python",
   "name": "python",
   "nbconvert_exporter": "python",
   "pygments_lexer": "ipython3",
   "version": "3.7.3"
  },
  "toc": {
   "base_numbering": 1,
   "nav_menu": {},
   "number_sections": true,
   "sideBar": true,
   "skip_h1_title": false,
   "title_cell": "Table of Contents",
   "title_sidebar": "Contents",
   "toc_cell": false,
   "toc_position": {},
   "toc_section_display": true,
   "toc_window_display": false
  },
  "varInspector": {
   "cols": {
    "lenName": 16,
    "lenType": 16,
    "lenVar": 40
   },
   "kernels_config": {
    "python": {
     "delete_cmd_postfix": "",
     "delete_cmd_prefix": "del ",
     "library": "var_list.py",
     "varRefreshCmd": "print(var_dic_list())"
    },
    "r": {
     "delete_cmd_postfix": ") ",
     "delete_cmd_prefix": "rm(",
     "library": "var_list.r",
     "varRefreshCmd": "cat(var_dic_list()) "
    }
   },
   "position": {
    "height": "563.212px",
    "left": "789.438px",
    "right": "20px",
    "top": "83px",
    "width": "637.535px"
   },
   "types_to_exclude": [
    "module",
    "function",
    "builtin_function_or_method",
    "instance",
    "_Feature"
   ],
   "window_display": true
  }
 },
 "nbformat": 4,
 "nbformat_minor": 2
}
