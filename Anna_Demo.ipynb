{
 "cells": [
  {
   "cell_type": "code",
   "execution_count": 6,
   "metadata": {
    "ExecuteTime": {
     "end_time": "2019-12-17T19:32:57.932903Z",
     "start_time": "2019-12-17T19:32:49.367731Z"
    }
   },
   "outputs": [],
   "source": [
    "import os\n",
    "import re\n",
    "import random\n",
    "import glob\n",
    "import pandas as pd\n",
    "import numpy as np\n",
    "from datetime import datetime\n",
    "from IPython.display import display, clear_output, HTML, Image, IFrame\n",
    "import base64\n",
    "import io\n",
    "import ipywidgets as widgets\n",
    "from ipywidgets import interact, interact_manual\n",
    "import base64\n",
    "from github import Github, GithubException\n",
    "from github import InputGitTreeElement\n",
    "import requests\n",
    "import time\n",
    "from io import BytesIO\n",
    "from PIL import Image\n",
    "import urllib.request\n",
    "import requests as req\n",
    "import spacy\n",
    "import json\n",
    "\n",
    "_ = !python3 -m spacy download en_core_web_sm\n",
    "import en_core_web_sm\n"
   ]
  },
  {
   "cell_type": "code",
   "execution_count": 9,
   "metadata": {
    "ExecuteTime": {
     "end_time": "2019-12-17T19:35:10.752245Z",
     "start_time": "2019-12-17T19:35:10.727452Z"
    }
   },
   "outputs": [
    {
     "data": {
      "application/javascript": [
       "//To remove scroll from any output area and automatically extend the jupyter cell\n",
       "IPython.OutputArea.prototype._should_scroll = function(lines) {\n",
       "    return false;\n",
       "}\n"
      ],
      "text/plain": [
       "<IPython.core.display.Javascript object>"
      ]
     },
     "metadata": {},
     "output_type": "display_data"
    }
   ],
   "source": [
    "%%javascript\n",
    "//To remove scroll from any output area and automatically extend the jupyter cell\n",
    "IPython.OutputArea.prototype._should_scroll = function(lines) {\n",
    "    return false;\n",
    "}"
   ]
  },
  {
   "cell_type": "code",
   "execution_count": 10,
   "metadata": {
    "ExecuteTime": {
     "end_time": "2019-12-17T19:35:11.397086Z",
     "start_time": "2019-12-17T19:35:11.384947Z"
    }
   },
   "outputs": [],
   "source": [
    "my_style = {'description_width': 'initial'}\n",
    "my_style_two = {'description_width': '150px'}\n",
    "my_layout = {'width': '600px'}\n",
    "my_layout_short = {'width': '300px'}\n",
    "my_layout_shortest = {'width': '200px'}\n",
    "FLAG__ON_BINDER = True\n",
    "FLAG__FROM_GIT = True\n",
    "\n",
    "DATA_FRAME_PATH_LOCAL = './data_to_display.csv'\n",
    "DATA_FRAME_PATH_GIT_URL = 'https://raw.githubusercontent.com/aideenf/AIVC/master/cp_wssc/Data/Iterative-models-building/Classification%20results/Conventions/'\n",
    "DATA_FRAME_PATH_LOCAL_BINDER  = '/home/jovyan/cp_wssc/Data/Iterative-models-building/Classification results/Conventions/Audited/'\n",
    "    "
   ]
  },
  {
   "cell_type": "code",
   "execution_count": 11,
   "metadata": {
    "ExecuteTime": {
     "end_time": "2019-12-17T19:35:26.876231Z",
     "start_time": "2019-12-17T19:35:26.871772Z"
    },
    "scrolled": true
   },
   "outputs": [],
   "source": [
    "def image_to_byte_array(image:Image):\n",
    "  imgByteArr = io.BytesIO()\n",
    "  image.save(imgByteArr, format=image.format)\n",
    "  imgByteArr = imgByteArr.getvalue()\n",
    "  return imgByteArr"
   ]
  },
  {
   "cell_type": "code",
   "execution_count": 89,
   "metadata": {
    "ExecuteTime": {
     "end_time": "2019-12-17T22:18:35.246669Z",
     "start_time": "2019-12-17T22:18:35.209204Z"
    },
    "scrolled": false
   },
   "outputs": [
    {
     "data": {
      "text/html": [
       "<div>\n",
       "<style scoped>\n",
       "    .dataframe tbody tr th:only-of-type {\n",
       "        vertical-align: middle;\n",
       "    }\n",
       "\n",
       "    .dataframe tbody tr th {\n",
       "        vertical-align: top;\n",
       "    }\n",
       "\n",
       "    .dataframe thead th {\n",
       "        text-align: right;\n",
       "    }\n",
       "</style>\n",
       "<table border=\"1\" class=\"dataframe\">\n",
       "  <thead>\n",
       "    <tr style=\"text-align: right;\">\n",
       "      <th></th>\n",
       "      <th>title</th>\n",
       "      <th>subtitle</th>\n",
       "      <th>size_kb</th>\n",
       "      <th>usabilityRating</th>\n",
       "      <th>url</th>\n",
       "      <th>title_lower</th>\n",
       "    </tr>\n",
       "  </thead>\n",
       "  <tbody>\n",
       "    <tr>\n",
       "      <th>0</th>\n",
       "      <td>Food.com Recipes and Interactions</td>\n",
       "      <td>Crawled data from Food.com (GeniusKitchen) onl...</td>\n",
       "      <td>267MB</td>\n",
       "      <td>0.823529</td>\n",
       "      <td>kaggle.com/shuyangli94/food-com-recipes-and-us...</td>\n",
       "      <td>food.com recipes and interactions</td>\n",
       "    </tr>\n",
       "    <tr>\n",
       "      <th>1</th>\n",
       "      <td>Sofia air quality dataset</td>\n",
       "      <td>Downloaded data from https://airsofia.info/</td>\n",
       "      <td>3GB</td>\n",
       "      <td>0.882353</td>\n",
       "      <td>kaggle.com/hmavrodiev/sofia-air-quality-dataset</td>\n",
       "      <td>sofia air quality dataset</td>\n",
       "    </tr>\n",
       "    <tr>\n",
       "      <th>2</th>\n",
       "      <td>Chest X-Ray Images (Pneumonia)</td>\n",
       "      <td>5,863 images, 2 categories</td>\n",
       "      <td>2GB</td>\n",
       "      <td>0.750000</td>\n",
       "      <td>kaggle.com/paultimothymooney/chest-xray-pneumonia</td>\n",
       "      <td>chest x-ray images (pneumonia)</td>\n",
       "    </tr>\n",
       "    <tr>\n",
       "      <th>3</th>\n",
       "      <td>Medical Speech, Transcription, and Intent</td>\n",
       "      <td>Audio utterances paired with text for common m...</td>\n",
       "      <td>5GB</td>\n",
       "      <td>0.705882</td>\n",
       "      <td>kaggle.com/paultimothymooney/medical-speech-tr...</td>\n",
       "      <td>medical speech, transcription, and intent</td>\n",
       "    </tr>\n",
       "    <tr>\n",
       "      <th>4</th>\n",
       "      <td>Artificial Lunar Landscape Dataset</td>\n",
       "      <td>Photorealistic images of the Moon's surface wi...</td>\n",
       "      <td>5GB</td>\n",
       "      <td>0.911765</td>\n",
       "      <td>kaggle.com/romainpessia/artificial-lunar-rocky...</td>\n",
       "      <td>artificial lunar landscape dataset</td>\n",
       "    </tr>\n",
       "  </tbody>\n",
       "</table>\n",
       "</div>"
      ],
      "text/plain": [
       "                                       title  \\\n",
       "0          Food.com Recipes and Interactions   \n",
       "1                  Sofia air quality dataset   \n",
       "2             Chest X-Ray Images (Pneumonia)   \n",
       "3  Medical Speech, Transcription, and Intent   \n",
       "4         Artificial Lunar Landscape Dataset   \n",
       "\n",
       "                                            subtitle size_kb  usabilityRating  \\\n",
       "0  Crawled data from Food.com (GeniusKitchen) onl...   267MB         0.823529   \n",
       "1       Downloaded data from https://airsofia.info/      3GB         0.882353   \n",
       "2                         5,863 images, 2 categories     2GB         0.750000   \n",
       "3  Audio utterances paired with text for common m...     5GB         0.705882   \n",
       "4  Photorealistic images of the Moon's surface wi...     5GB         0.911765   \n",
       "\n",
       "                                                 url  \\\n",
       "0  kaggle.com/shuyangli94/food-com-recipes-and-us...   \n",
       "1    kaggle.com/hmavrodiev/sofia-air-quality-dataset   \n",
       "2  kaggle.com/paultimothymooney/chest-xray-pneumonia   \n",
       "3  kaggle.com/paultimothymooney/medical-speech-tr...   \n",
       "4  kaggle.com/romainpessia/artificial-lunar-rocky...   \n",
       "\n",
       "                                 title_lower  \n",
       "0          food.com recipes and interactions  \n",
       "1                  sofia air quality dataset  \n",
       "2             chest x-ray images (pneumonia)  \n",
       "3  medical speech, transcription, and intent  \n",
       "4         artificial lunar landscape dataset  "
      ]
     },
     "metadata": {},
     "output_type": "display_data"
    },
    {
     "name": "stdout",
     "output_type": "stream",
     "text": [
      "Num rows 158\n",
      "Num cols 6\n"
     ]
    }
   ],
   "source": [
    "data_to_display_df = pd.read_csv(DATA_FRAME_PATH_LOCAL, index_col = False)\n",
    "data_to_display_df = data_to_display_df.drop(\"Unnamed: 0\", axis = 1).drop(\"id\", axis = 1)\n",
    "\n",
    "data_to_display_df['title_lower'] = data_to_display_df[\"title\"].apply(lambda string: string.lower())\n",
    "# display(data_to_display_df.head())\n",
    "\n",
    "# print(\"Num rows\", data_to_display_df.shape[0])\n",
    "# print(\"Num cols\",data_to_display_df.shape[1])"
   ]
  },
  {
   "cell_type": "code",
   "execution_count": 73,
   "metadata": {
    "ExecuteTime": {
     "end_time": "2019-12-17T21:54:17.586136Z",
     "start_time": "2019-12-17T21:54:17.138025Z"
    }
   },
   "outputs": [],
   "source": [
    "file_size_list = data_to_display_df.size_kb.unique()\n",
    "max_usability_rating = data_to_display_df.usabilityRating.max()\n",
    "min_usability_rating = data_to_display_df.usabilityRating.min()\n",
    "\n",
    "my_intro_html= \"\"\"<h4>Using the audit tool</h4><p>This tool will randomly select and display a sentence which\n",
    "has already been classified by the model thus facilitating human evaluation and correction of model predictions.\n",
    "These validated and corrected predictions will be fed back to the model as part of a re-training process, with \n",
    "the objective of increasing model accuracy. The tool will automatically select and display a random sentence from\n",
    "the pool each time an action is involked, either by modifying the filter or by one of the three action buttons\n",
    "[Change], [Ok] and [Skip]. Once the sentence is audited via either the [Ok] or [Change] button it will be used to\n",
    "train the model on the next training iteration.<br/>[Skip]: Use the Skip button if you are unable to confirm\n",
    "    the classification (no action will be taken)</p><p>[Ok]: </span> Use the OK button to confirm that the \n",
    "        sentence has been classified correctly as [Positive] or [Negative] for the convention in question i.e \n",
    "        if the classification is True </p><p>[Chang]e]: Use the change button, if you believe the sentence has\n",
    "            been classified incorrectly by the model  i.e if the classification is a \"False Positive\" or \n",
    "            \"False Negative\".<br/> If the original classification has been \"False Positive\" and you can correctly\n",
    "            classify the sentence as belonging to another convention, please select the appropriate convention \n",
    "            via the [Change to] dropdown.</p><p><em>Note: A&nbsp;<strong>GitHub</strong>&nbsp;username and \n",
    "                password is required to save the results of the audits, it is important to remember to save the\n",
    "                audit on a regular basis</em></p><hr/><p></p> \"\"\"                             \n",
    "\n",
    "\n",
    "#image\n",
    "IMAGE_PATH = 'http://www.euro.who.int/__data/assets/image/0020/392042/SDG3-600-collage.png'\n",
    "image = Image.open(urllib.request.urlopen(IMAGE_PATH))\n",
    "image = image_to_byte_array(image)\n"
   ]
  },
  {
   "cell_type": "code",
   "execution_count": 101,
   "metadata": {
    "ExecuteTime": {
     "end_time": "2019-12-17T22:42:51.214270Z",
     "start_time": "2019-12-17T22:42:50.936970Z"
    },
    "scrolled": true
   },
   "outputs": [
    {
     "data": {
      "application/vnd.jupyter.widget-view+json": {
       "model_id": "c992c02887b94b968c3e9379a74b7f2c",
       "version_major": 2,
       "version_minor": 0
      },
      "text/plain": [
       "HTML(value=\"<font color = '#8c8c8c'><h3><center>*** Model Classification, Audit Tool ***</center></h3></font>\"…"
      ]
     },
     "metadata": {},
     "output_type": "display_data"
    },
    {
     "data": {
      "application/vnd.jupyter.widget-view+json": {
       "model_id": "5e3251dae5d04355a7eed84fc82cb4bd",
       "version_major": 2,
       "version_minor": 0
      },
      "text/plain": [
       "Accordion(children=(HTML(value='<h4>Using the audit tool</h4><p>This tool will randomly select and display a s…"
      ]
     },
     "metadata": {},
     "output_type": "display_data"
    },
    {
     "data": {
      "application/vnd.jupyter.widget-view+json": {
       "model_id": "db81b9e4e946402985988d94c63493ad",
       "version_major": 2,
       "version_minor": 0
      },
      "text/plain": [
       "Label(value='  ', layout=Layout(width='100%'))"
      ]
     },
     "metadata": {},
     "output_type": "display_data"
    },
    {
     "data": {
      "application/vnd.jupyter.widget-view+json": {
       "model_id": "39a052e10e74472eba5d9abade9c26e5",
       "version_major": 2,
       "version_minor": 0
      },
      "text/plain": [
       "HTML(value=\"<font color = '#8c8c8c'><h4><left>--- Filter ---</left></h4></font>\")"
      ]
     },
     "metadata": {},
     "output_type": "display_data"
    },
    {
     "data": {
      "application/vnd.jupyter.widget-view+json": {
       "model_id": "db81b9e4e946402985988d94c63493ad",
       "version_major": 2,
       "version_minor": 0
      },
      "text/plain": [
       "Label(value='  ', layout=Layout(width='100%'))"
      ]
     },
     "metadata": {},
     "output_type": "display_data"
    },
    {
     "data": {
      "application/vnd.jupyter.widget-view+json": {
       "model_id": "18f714dca70049d7a7d1d17bf3b3306e",
       "version_major": 2,
       "version_minor": 0
      },
      "text/plain": [
       "VBox(children=(Dropdown(description='File size :', layout=Layout(width='600px'), options=('Any', '267MB', '3GB…"
      ]
     },
     "metadata": {},
     "output_type": "display_data"
    },
    {
     "data": {
      "application/vnd.jupyter.widget-view+json": {
       "model_id": "db81b9e4e946402985988d94c63493ad",
       "version_major": 2,
       "version_minor": 0
      },
      "text/plain": [
       "Label(value='  ', layout=Layout(width='100%'))"
      ]
     },
     "metadata": {},
     "output_type": "display_data"
    },
    {
     "data": {
      "application/vnd.jupyter.widget-view+json": {
       "model_id": "6b204b9ec6644f97beff75f2e9ef1288",
       "version_major": 2,
       "version_minor": 0
      },
      "text/plain": [
       "HBox(children=(Button(description='Back', style=ButtonStyle(button_color='#d9d9d9'), tooltip='View previous da…"
      ]
     },
     "metadata": {},
     "output_type": "display_data"
    },
    {
     "data": {
      "application/vnd.jupyter.widget-view+json": {
       "model_id": "6ba3604ef99a4d0f870dd428464ea3db",
       "version_major": 2,
       "version_minor": 0
      },
      "text/plain": [
       "Output()"
      ]
     },
     "metadata": {},
     "output_type": "display_data"
    }
   ],
   "source": [
    "selectHTMLHead = widgets.HTML(\n",
    "            \"<font color = '#8c8c8c'><h3><center>*** Model Classification, Audit Tool ***</center></h3></font>\")\n",
    "\n",
    "selectHTML = widgets.HTML(\n",
    "            \"<font color = '#8c8c8c'><h4><left>--- Filter ---</left></h4></font>\")\n",
    "\n",
    "space = widgets.Label('  ', layout=widgets.Layout(width='100%'))\n",
    "\n",
    "\n",
    "\n",
    "\n",
    "accordion = widgets.Accordion(children=\n",
    "                              [widgets.HTML(my_intro_html),\n",
    "                               widgets.Image(value=image,format='png',width=1200,height=1200),\n",
    "                              ])\n",
    "\n",
    "\n",
    "accordion.set_title(0, 'My title stuff')\n",
    "accordion.set_title(1, 'My image whatever it is')\n",
    "accordion.selected_index = 0\n",
    "\n",
    "file_size_list = data_to_display_df.size_kb.unique()\n",
    "file_size_list = np.insert(file_size_list, 0, \"Any\")\n",
    "file_size_drop_down = widgets.Dropdown(\n",
    "    options =  file_size_list,\n",
    "    description=\"File size :\",\n",
    "     #value=None,\n",
    "    disabled=False,\n",
    "    style = my_style_two,\n",
    "    layout = my_layout\n",
    ")\n",
    "\n",
    "\n",
    "\n",
    "usability_rating_slider_min = widgets.FloatSlider(\n",
    "    min=min_usability_rating, \n",
    "    max=max_usability_rating,\n",
    "    value = min_usability_rating,\n",
    "    step = 0.01,\n",
    "    description='Min Usability level:',\n",
    "    style = my_style_two,\n",
    "    layout = my_layout\n",
    "    )\n",
    "usability_rating_slider_min.style.handle_color = '#5c85d6'\n",
    "\n",
    "\n",
    "usability_rating_slider_max = widgets.FloatSlider(\n",
    "    min=min_usability_rating, \n",
    "    max=max_usability_rating, \n",
    "    value = max_usability_rating,\n",
    "    step = 0.01,\n",
    "    description='Max Usability level:',\n",
    "    style = my_style_two,\n",
    "    layout = my_layout)\n",
    "usability_rating_slider_max.style.handle_color = '#5c85d6'\n",
    "\n",
    "\n",
    "\n",
    "search_box_title = widgets.Text(value='', \n",
    "                              description='Search Title:',\n",
    "                              style = my_style_two,\n",
    "                              layout = my_layout)\n",
    "\n",
    "\n",
    "forward_button = widgets.Button(\n",
    "            description= \"Forward\",\n",
    "            disabled=False,\n",
    "            button_style='',\n",
    "            tooltip='View next dataset')\n",
    "forward_button.style.button_color = '#e68a00'\n",
    "\n",
    "\n",
    "\n",
    "back_button = widgets.Button(\n",
    "            description='Back',\n",
    "            disabled=False,\n",
    "            button_style='',\n",
    "             tooltip='View previous dataset')\n",
    "back_button.style.button_color = '#d9d9d9'\n",
    "\n",
    "last_clicked = \"forward\"\n",
    "\n",
    "def forward_button_clicked(b):\n",
    "    global data_to_display_df\n",
    "    global last_clicked\n",
    "    last_clicked = \"forward\"\n",
    "   \n",
    "    with output:\n",
    "        clear_output(wait=True)\n",
    "        print (\"Forward button clicked\") \n",
    "        output_function(file_size_drop_down.value,\n",
    "                        usability_rating_slider_min.value,\n",
    "                        usability_rating_slider_max.value,\n",
    "                        search_box_title.value)\n",
    "        \n",
    "\n",
    "def back_button_clicked(b):\n",
    "    global data_to_display_df\n",
    "    global last_clicked\n",
    "    last_clicked = \"back\"\n",
    "   \n",
    "    with output:\n",
    "        clear_output(wait=True)\n",
    "        print (\"Back button clicked\") \n",
    "        output_function(file_size_drop_down.value,\n",
    "                        usability_rating_slider_min.value,\n",
    "                        usability_rating_slider_max.value,\n",
    "                        search_box_title.value)\n",
    "        \n",
    "\n",
    "\n",
    "            \n",
    "            \n",
    "def output_function(file_size_drop_down_value,\n",
    "                        usability_rating_slider_min_value,\n",
    "                        usability_rating_slider_max_value,\n",
    "                        search_box_title_value):\n",
    "    \n",
    "#     print (\"output function called\")\n",
    "    global data_to_display_df\n",
    "    global last_clicked\n",
    "    file_size_drop_down.disable = False\n",
    "    usability_rating_slider_min.disable = False\n",
    "    usability_rating_slider_max.disable = False\n",
    "    search_box_title.disable = False\n",
    "    \n",
    "#     display (data_to_display_df.head())\n",
    "    \n",
    "    print (file_size_drop_down_value)\n",
    "    print (usability_rating_slider_min_value)\n",
    "    print (usability_rating_slider_max_value)\n",
    "    print (search_box_title_value)\n",
    "    print (last_clicked)\n",
    "    \n",
    "    row_to_display = pd.DataFrame()\n",
    "    \n",
    "    if search_box_title_value != '':\n",
    "        file_size_drop_down.disable = True\n",
    "        usability_rating_slider_min.disable = True\n",
    "        usability_rating_slider_max.disable = True\n",
    "        filtered_result =  data_to_display_df.loc[(data_to_display_df['title_lower'].str.contains(search_box_title_value))]\n",
    "                                              \n",
    "    \n",
    "    elif file_size_drop_down_value == \"Any\":\n",
    "        filtered_result =  data_to_display_df.loc[(data_to_display_df['usabilityRating'] > usability_rating_slider_min_value ) &\n",
    "                                              (data_to_display_df['usabilityRating'] < usability_rating_slider_max_value )]\n",
    "     \n",
    "    \n",
    "    \n",
    "    else:\n",
    "        filtered_result =  data_to_display_df.loc[(data_to_display_df['size_kb'] == file_size_drop_down_value) &\n",
    "                                              (data_to_display_df['usabilityRating'] > usability_rating_slider_min_value ) &\n",
    "                                              (data_to_display_df['usabilityRating'] < usability_rating_slider_max_value )]\n",
    "         \n",
    "#     display ( filtered_result.head())\n",
    "    print ( \"Num filtered rows\", filtered_result.shape[0])\n",
    "    \n",
    "    if not filtered_result.empty:\n",
    "        \n",
    "#         row_to_display = filtered_result.iloc[current_position]\n",
    "        row_to_display = filtered_result.sample(n = 1)\n",
    "        \n",
    "        title = row_to_display.iloc[0].title\n",
    "        subtitle = row_to_display.iloc[0].subtitle\n",
    "        rating = row_to_display.iloc[0].usabilityRating\n",
    "        size = row_to_display.iloc[0].size_kb\n",
    "    \n",
    "        kaggle_url = row_to_display.iloc[0].url\n",
    "        zip_file_url = \"https://www.\" + kaggle_url + \"/download\"\n",
    "        url = \"https://www.\" + kaggle_url\n",
    "\n",
    "    \n",
    "        txt = \"The number of filtered samples is \" + str(filtered_result.shape[0])\n",
    "        display(HTML(\"<font color='purple'>\" +  txt + \"</font>\"))\n",
    "        display(HTML(\"<font color='green'>\" + \"Title: \" + title + \"</font>\"))\n",
    "        display(HTML(\"<font color='green'>\" + \"Sub Title: \" + subtitle + \"</font>\"))\n",
    "        display(HTML(\"<font color='green'>\" + \"Usability Rating: \" + str(round(rating, 2)) + \"</font>\"))\n",
    "        display(HTML(\"<font color='green'>\" + \"File Size: \" + size + \"</font>\"))\n",
    "        print (\"Kaggle URL\", url)\n",
    "        print (\"Download Data:\",  zip_file_url)\n",
    "    else:\n",
    "        print (\"Relax your filter baby\")\n",
    "       \n",
    "        \n",
    "                       \n",
    "    \n",
    "output = widgets.interactive_output(output_function, {'file_size_drop_down_value' :file_size_drop_down,\n",
    "                                    'usability_rating_slider_min_value' :usability_rating_slider_min,\n",
    "                                    'usability_rating_slider_max_value':usability_rating_slider_max,\n",
    "                                    'search_box_title_value':search_box_title})\n",
    "\n",
    "forward_button.on_click(forward_button_clicked)\n",
    "back_button.on_click(back_button_clicked)\n",
    "\n",
    "\n",
    "display(\n",
    "        selectHTMLHead,\n",
    "        accordion,\n",
    "        space,\n",
    "        selectHTML,\n",
    "        space,\n",
    "        widgets.VBox([file_size_drop_down,\n",
    "                        usability_rating_slider_min,\n",
    "                        usability_rating_slider_max,\n",
    "                        search_box_title]),\n",
    "        \n",
    "        space,\n",
    "        widgets.HBox([back_button,forward_button]),\n",
    "        output\n",
    "        \n",
    "    )"
   ]
  },
  {
   "cell_type": "code",
   "execution_count": null,
   "metadata": {},
   "outputs": [],
   "source": []
  }
 ],
 "metadata": {
  "hide_input": false,
  "kernelspec": {
   "display_name": "Python 3",
   "language": "python",
   "name": "python3"
  },
  "language_info": {
   "codemirror_mode": {
    "name": "ipython",
    "version": 3
   },
   "file_extension": ".py",
   "mimetype": "text/x-python",
   "name": "python",
   "nbconvert_exporter": "python",
   "pygments_lexer": "ipython3",
   "version": "3.6.0"
  },
  "toc": {
   "base_numbering": 1,
   "nav_menu": {},
   "number_sections": true,
   "sideBar": true,
   "skip_h1_title": false,
   "title_cell": "Table of Contents",
   "title_sidebar": "Contents",
   "toc_cell": false,
   "toc_position": {},
   "toc_section_display": true,
   "toc_window_display": false
  },
  "varInspector": {
   "cols": {
    "lenName": 16,
    "lenType": 16,
    "lenVar": 40
   },
   "kernels_config": {
    "python": {
     "delete_cmd_postfix": "",
     "delete_cmd_prefix": "del ",
     "library": "var_list.py",
     "varRefreshCmd": "print(var_dic_list())"
    },
    "r": {
     "delete_cmd_postfix": ") ",
     "delete_cmd_prefix": "rm(",
     "library": "var_list.r",
     "varRefreshCmd": "cat(var_dic_list()) "
    }
   },
   "position": {
    "height": "563.212px",
    "left": "789.438px",
    "right": "20px",
    "top": "83px",
    "width": "637.535px"
   },
   "types_to_exclude": [
    "module",
    "function",
    "builtin_function_or_method",
    "instance",
    "_Feature"
   ],
   "window_display": true
  }
 },
 "nbformat": 4,
 "nbformat_minor": 2
}
